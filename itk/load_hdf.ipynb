{
 "cells": [
  {
   "cell_type": "code",
   "execution_count": 46,
   "metadata": {
    "tags": []
   },
   "outputs": [],
   "source": [
    "import itk\n",
    "import h5py\n",
    "import numpy as np\n",
    "\n",
    "from pathlib import Path\n",
    "from itkwidgets import view"
   ]
  },
  {
   "cell_type": "code",
   "execution_count": 47,
   "metadata": {},
   "outputs": [],
   "source": [
    "def data2numpy(file_name):\n",
    "    # convert the dataset contained in an hdf file into a numpy array\n",
    "    # works only when data linked to external files \n",
    "    with h5py.File(file_name, 'r') as main_file:\n",
    "        # Access the dataset which contains links to external files\n",
    "        linked_dataset = main_file['exchange/data']\n",
    "        path = Path(file_name).with_suffix('')\n",
    "        parts_path = f'{path}_parts'\n",
    "        # Initialize an empty list to store NumPy arrays\n",
    "        numpy_arrays = []\n",
    "        # Iterate over each external HDF file\n",
    "        for file_path in list(Path(parts_path).glob('*.*')):\n",
    "             # Open the external HDF file\n",
    "            with h5py.File(file_path, 'r') as external_file:\n",
    "                # Access the dataset within the external file\n",
    "                dataset = external_file['exchange/data']  \n",
    "                # Convert the dataset to a NumPy array and append to the list\n",
    "                numpy_array = np.array(dataset)\n",
    "                numpy_arrays.append(numpy_array)\n",
    "        # Concatenate the NumPy arrays along the desired axis\n",
    "        final_numpy_array = np.concatenate(numpy_arrays, axis=0)\n",
    "        return final_numpy_array"
   ]
  },
  {
   "cell_type": "code",
   "execution_count": 48,
   "metadata": {
    "scrolled": false,
    "tags": []
   },
   "outputs": [
    {
     "name": "stdout",
     "output_type": "stream",
     "text": [
      "ITK image data size after convesion from NumPy = itkSize3 ([2800, 2800, 856])\n",
      "\n"
     ]
    }
   ],
   "source": [
    "filename = '/data/2022-12_rec/Luxi_173_rec.h5'\n",
    "\n",
    "numpy_array = data2numpy(filename)\n",
    "itk_image = itk.GetImageFromArray(np.ascontiguousarray(numpy_array))\n",
    "    \n",
    "\n",
    "region = itk_image.GetLargestPossibleRegion()\n",
    "size = region.GetSize()\n",
    "print(f\"ITK image data size after convesion from NumPy = {size}\\n\")"
   ]
  },
  {
   "cell_type": "code",
   "execution_count": null,
   "metadata": {
    "tags": []
   },
   "outputs": [],
   "source": [
    "viewer = view(itk_image)\n",
    "print(viewer)"
   ]
  },
  {
   "cell_type": "code",
   "execution_count": null,
   "metadata": {},
   "outputs": [],
   "source": []
  }
 ],
 "metadata": {
  "kernelspec": {
   "display_name": "Python 3 (ipykernel)",
   "language": "python",
   "name": "python3"
  },
  "language_info": {
   "codemirror_mode": {
    "name": "ipython",
    "version": 3
   },
   "file_extension": ".py",
   "mimetype": "text/x-python",
   "name": "python",
   "nbconvert_exporter": "python",
   "pygments_lexer": "ipython3",
   "version": "3.9.18"
  }
 },
 "nbformat": 4,
 "nbformat_minor": 4
}
